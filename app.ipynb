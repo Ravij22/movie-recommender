{
 "cells": [
  {
   "cell_type": "code",
   "execution_count": 2,
   "id": "86050392",
   "metadata": {},
   "outputs": [
    {
     "name": "stderr",
     "output_type": "stream",
     "text": [
      "2022-07-06 11:53:11.712 INFO    numexpr.utils: Note: NumExpr detected 12 cores but \"NUMEXPR_MAX_THREADS\" not set, so enforcing safe limit of 8.\n",
      "2022-07-06 11:53:11.717 INFO    numexpr.utils: NumExpr defaulting to 8 threads.\n"
     ]
    }
   ],
   "source": [
    "import streamlit as st"
   ]
  },
  {
   "cell_type": "code",
   "execution_count": 9,
   "id": "8dc7a152",
   "metadata": {},
   "outputs": [
    {
     "data": {
      "text/plain": [
       "DeltaGenerator(_root_container=0, _provided_cursor=None, _parent=None, _block_type=None, _form_data=None)"
      ]
     },
     "execution_count": 9,
     "metadata": {},
     "output_type": "execute_result"
    }
   ],
   "source": [
    "st.title('Want Movie recommendations?')\n",
    "st.text('This is a tool that recommends you movies based on a movie you like')"
   ]
  },
  {
   "cell_type": "code",
   "execution_count": 10,
   "id": "6670798c",
   "metadata": {},
   "outputs": [],
   "source": [
    "def recommend(movie):\n",
    "    ind = movies_list[movies_list['title']==movie].index[0]\n",
    "    rec_movies = sorted(list(enumerate(similarity[ind])),reverse=True,key=lambda x:x[1])[1:6]\n",
    "    \n",
    "    recommended=[]\n",
    "    for i in rec_movies:\n",
    "        recommended.append(movies_list['title'][i[0]])\n",
    "    \n",
    "    return recommended"
   ]
  },
  {
   "cell_type": "code",
   "execution_count": 11,
   "id": "4058f9f6",
   "metadata": {},
   "outputs": [],
   "source": [
    "import pickle\n",
    "import pandas as pd"
   ]
  },
  {
   "cell_type": "code",
   "execution_count": 12,
   "id": "3739ca85",
   "metadata": {},
   "outputs": [],
   "source": [
    "movies_list = pickle.load(open('movies.pkl','rb'))\n",
    "movies_list_title = movies_list['title'].values\n",
    "similarity = pickle.load(open('similarity.pkl','rb'))"
   ]
  },
  {
   "cell_type": "code",
   "execution_count": 13,
   "id": "d3bb7116",
   "metadata": {},
   "outputs": [],
   "source": [
    "option = st.selectbox(\n",
    "     'Enter movie name for recommendations',\n",
    "     movies_list_title)"
   ]
  },
  {
   "cell_type": "code",
   "execution_count": 14,
   "id": "686bfcda",
   "metadata": {},
   "outputs": [],
   "source": [
    "if st.button('Recommend'):\n",
    "    recommendations = recommend(option)\n",
    "    for i in recommendations:\n",
    "        st.write(i)"
   ]
  },
  {
   "cell_type": "code",
   "execution_count": null,
   "id": "7b58b742",
   "metadata": {},
   "outputs": [],
   "source": []
  }
 ],
 "metadata": {
  "kernelspec": {
   "display_name": "Python 3 (ipykernel)",
   "language": "python",
   "name": "python3"
  },
  "language_info": {
   "codemirror_mode": {
    "name": "ipython",
    "version": 3
   },
   "file_extension": ".py",
   "mimetype": "text/x-python",
   "name": "python",
   "nbconvert_exporter": "python",
   "pygments_lexer": "ipython3",
   "version": "3.9.7"
  }
 },
 "nbformat": 4,
 "nbformat_minor": 5
}
